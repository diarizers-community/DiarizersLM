{
 "cells": [
  {
   "cell_type": "markdown",
   "metadata": {},
   "source": [
    "# Construct fisher dataset: "
   ]
  },
  {
   "cell_type": "code",
   "execution_count": 6,
   "metadata": {},
   "outputs": [
    {
     "name": "stdout",
     "output_type": "stream",
     "text": [
      "ok\n",
      "Loading dataset shards: 100%|███████████████████| 59/59 [00:02<00:00, 26.34it/s]\n"
     ]
    }
   ],
   "source": [
    "!python3 preprocessing/construct.py \\\n",
    "    --preprocess=True \\\n",
    "    --local_fisher_dir=/data/fisher/data \\\n",
    "    --preprocess_cache_dir=/data/fisher \\\n",
    "    --hub_folder=kamilakesbi/fisher_full"
   ]
  }
 ],
 "metadata": {
  "kernelspec": {
   "display_name": "env",
   "language": "python",
   "name": "python3"
  },
  "language_info": {
   "codemirror_mode": {
    "name": "ipython",
    "version": 3
   },
   "file_extension": ".py",
   "mimetype": "text/x-python",
   "name": "python",
   "nbconvert_exporter": "python",
   "pygments_lexer": "ipython3",
   "version": "3.9.5"
  }
 },
 "nbformat": 4,
 "nbformat_minor": 2
}
